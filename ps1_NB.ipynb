{
 "cells": [
  {
   "cell_type": "code",
   "execution_count": 1,
   "metadata": {},
   "outputs": [],
   "source": [
    "import os\n",
    "import re\n",
    "import numpy as np\n",
    "import pandas as pd\n",
    "import math\n",
    "from sklearn.metrics import accuracy_score\n",
    "from nltk.corpus import stopwords \n",
    "from nltk.tokenize import word_tokenize\n",
    "import operator\n",
    "from sklearn.feature_extraction.text import CountVectorizer, TfidfVectorizer\n",
    "from sklearn.naive_bayes import MultinomialNB, BernoulliNB\n",
    "from sklearn.metrics import accuracy_score\n",
    "from nltk.stem import WordNetLemmatizer"
   ]
  },
  {
   "cell_type": "markdown",
   "metadata": {},
   "source": [
    "### Unknown Words Addition"
   ]
  },
  {
   "cell_type": "code",
   "execution_count": 2,
   "metadata": {},
   "outputs": [],
   "source": [
    "# Used to add UNK to the training corpus\n",
    "def unknown_words(corpus):\n",
    "    for i in range(len(corpus)):\n",
    "        toss = np.random.binomial(size=1, n=1, p= 0.01)\n",
    "        if toss == 1:\n",
    "            corpus[i] = 'UNK'\n",
    "    \n",
    "    return corpus"
   ]
  },
  {
   "cell_type": "code",
   "execution_count": 3,
   "metadata": {},
   "outputs": [],
   "source": [
    "# Used to add UNK in validation and Testing corpus\n",
    "def add_unknown_words(corpus, unigram_count):\n",
    "    for i in range(len(corpus)):\n",
    "        if corpus[i] not in unigram_count:\n",
    "            corpus[i] = 'UNK'\n",
    "    return corpus"
   ]
  },
  {
   "cell_type": "markdown",
   "metadata": {},
   "source": [
    "### Importing Data from Training Set and Fitting NB model"
   ]
  },
  {
   "cell_type": "code",
   "execution_count": 10,
   "metadata": {},
   "outputs": [
    {
     "data": {
      "text/plain": [
       "<1024x69227 sparse matrix of type '<type 'numpy.int64'>'\n",
       "\twith 199342 stored elements in Compressed Sparse Row format>"
      ]
     },
     "execution_count": 10,
     "metadata": {},
     "output_type": "execute_result"
    }
   ],
   "source": [
    "filename = 'truthful.txt'\n",
    "f = open(os.getcwd() + \"/DATASET/train/\" + filename, \"r\")\n",
    "\n",
    "stop_words = ['the','and','a','to','was','i','for','it','is','be','as','so','are','all','when']\n",
    "                    # 'when' was the last word which gave accuracy. 'not', 'in','at'\n",
    "text = []\n",
    "ytruth = []\n",
    "\n",
    "# Implementation of Linguistic Features:\n",
    "lemmer=WordNetLemmatizer()\n",
    "\n",
    "for line in f:\n",
    "    line = line.lower()\n",
    "#     line = line.replace(\" '\", \"\")\n",
    "#     word_list  = line.split()\n",
    "#     word_list = unknown_words(word_list)\n",
    "#     line = ' '.join(word[0] for word in word_list)\n",
    "    line = '<s>' + ' ' + line\n",
    "    line=' '.join([lemmer.lemmatize(word) for word in line.split()])\n",
    "    text.append(line)\n",
    "    ytruth.append(0)\n",
    "f.close()\n",
    "# print(text[0])\n",
    "\n",
    "filename = 'deceptive.txt'\n",
    "f = open(os.getcwd() + \"/DATASET/train/\" + filename, \"r\")\n",
    "\n",
    "for line in f:\n",
    "    line = line.lower()\n",
    "#     line = line.replace(\" '\", \"\")\n",
    "#     word_list  = line.split()\n",
    "#     word_list = unknown_words(word_list)\n",
    "#     line = ' '.join([word for word in word_list])\n",
    "    line = '<s>' + ' ' + line\n",
    "    line=' '.join([lemmer.lemmatize(word) for word in line.split()])\n",
    "    text.append(line)\n",
    "    ytruth.append(1)\n",
    "f.close()\n",
    "\n",
    "# train_corpus = ' '.join(line[0] for line in text)\n",
    "\n",
    "# vectorizer = CountVectorizer(analyzer = 'word')\n",
    "vectorizer = CountVectorizer(ngram_range=(1,2), stop_words = stop_words)     # Bigrams, token_pattern=r'\\b\\w+\\b'\n",
    "# vectorizer = TfidfVectorizer(ngram_range=(1,2), stop_words = stop_words)     # Bigrams, token_pattern=r'\\b\\w+\\b'\n",
    "features_X_train = vectorizer.fit_transform(text)\n",
    "word_types = vectorizer.get_feature_names()\n",
    "ytruth_train = ytruth\n",
    "clf = MultinomialNB(alpha = 1, class_prior=None, fit_prior=True)\n",
    "# clf = BernoulliNB(alpha = 0.005, class_prior=None, fit_prior=None)\n",
    "clf.fit(features_X_train, ytruth_train)\n",
    "features_X_train"
   ]
  },
  {
   "cell_type": "markdown",
   "metadata": {},
   "source": [
    "### Importing Data from Validation Set and Predicting using NB model"
   ]
  },
  {
   "cell_type": "code",
   "execution_count": 12,
   "metadata": {},
   "outputs": [
    {
     "name": "stdout",
     "output_type": "stream",
     "text": [
      "Accuracy Score: 0.921875\n"
     ]
    }
   ],
   "source": [
    "# We ran this code for different parameters on validation dataset to get different accuracies, in report, Table 2: \n",
    "\n",
    "filename = 'truthful.txt'\n",
    "f = open(os.getcwd() + \"/DATASET/validation/\" + filename, \"r\")\n",
    "\n",
    "text = []\n",
    "ytruth = []\n",
    "\n",
    "for line in f:\n",
    "    line = line.lower()\n",
    "#     line = line.replace(\" '\", \"\")\n",
    "#     word_list  = line.split()\n",
    "#     word_list = add_unknown_words(word_list, train_corpus)\n",
    "#     line = ' '.join(word[0] for word in word_list)\n",
    "    line = '<s>' + ' ' + line\n",
    "    line=' '.join([lemmer.lemmatize(word) for word in line.split()])\n",
    "    text.append(line)\n",
    "    ytruth.append(0)\n",
    "f.close()\n",
    "\n",
    "filename = 'deceptive.txt'\n",
    "f = open(os.getcwd() + \"/DATASET/validation/\" + filename, \"r\")\n",
    "\n",
    "for line in f:\n",
    "    line = line.lower()\n",
    "#     line = line.replace(\" '\", \"\")\n",
    "#     word_list  = line.split()\n",
    "#     word_list = add_unknown_words(word_list, train_corpus)\n",
    "#     line = ' '.join(word[0] for word in word_list)\n",
    "    line = '<s>' + ' ' + line\n",
    "    line=' '.join([lemmer.lemmatize(word) for word in line.split()])\n",
    "    text.append(line)\n",
    "    ytruth.append(1)\n",
    "f.close()\n",
    "\n",
    "features_X_valid = vectorizer.transform(text)\n",
    "word_types = vectorizer.get_feature_names()\n",
    "ytruth_valid = ytruth\n",
    "features_X_valid\n",
    "ypred = clf.predict(features_X_valid)\n",
    "\n",
    "acc_score = accuracy_score(ytruth_valid, ypred)\n",
    "print('Accuracy Score: %s'%(acc_score))"
   ]
  },
  {
   "cell_type": "markdown",
   "metadata": {},
   "source": [
    "### Importing data from Test set and getting predicted classes"
   ]
  },
  {
   "cell_type": "code",
   "execution_count": 37,
   "metadata": {},
   "outputs": [
    {
     "data": {
      "text/html": [
       "<div>\n",
       "<style scoped>\n",
       "    .dataframe tbody tr th:only-of-type {\n",
       "        vertical-align: middle;\n",
       "    }\n",
       "\n",
       "    .dataframe tbody tr th {\n",
       "        vertical-align: top;\n",
       "    }\n",
       "\n",
       "    .dataframe thead th {\n",
       "        text-align: right;\n",
       "    }\n",
       "</style>\n",
       "<table border=\"1\" class=\"dataframe\">\n",
       "  <thead>\n",
       "    <tr style=\"text-align: right;\">\n",
       "      <th></th>\n",
       "      <th>Prediction</th>\n",
       "    </tr>\n",
       "    <tr>\n",
       "      <th>Id</th>\n",
       "      <th></th>\n",
       "    </tr>\n",
       "  </thead>\n",
       "  <tbody>\n",
       "    <tr>\n",
       "      <th>0</th>\n",
       "      <td>1</td>\n",
       "    </tr>\n",
       "    <tr>\n",
       "      <th>1</th>\n",
       "      <td>0</td>\n",
       "    </tr>\n",
       "    <tr>\n",
       "      <th>2</th>\n",
       "      <td>0</td>\n",
       "    </tr>\n",
       "    <tr>\n",
       "      <th>3</th>\n",
       "      <td>1</td>\n",
       "    </tr>\n",
       "    <tr>\n",
       "      <th>4</th>\n",
       "      <td>0</td>\n",
       "    </tr>\n",
       "  </tbody>\n",
       "</table>\n",
       "</div>"
      ],
      "text/plain": [
       "    Prediction\n",
       "Id            \n",
       "0            1\n",
       "1            0\n",
       "2            0\n",
       "3            1\n",
       "4            0"
      ]
     },
     "execution_count": 37,
     "metadata": {},
     "output_type": "execute_result"
    }
   ],
   "source": [
    "filename = 'test.txt'\n",
    "f = open(os.getcwd() + \"/DATASET/test/\" + filename, \"r\")\n",
    "\n",
    "text = []\n",
    "\n",
    "for line in f:\n",
    "    line = line.lower()\n",
    "    line = '<s>' + ' ' + line\n",
    "    line=' '.join([lemmer.lemmatize(word) for word in line.split()])\n",
    "    text.append(line)\n",
    "    \n",
    "f.close()\n",
    "features_X_test = vectorizer.transform(text)\n",
    "ypred_test = clf.predict(features_X_test)\n",
    "\n",
    "output = pd.DataFrame(ypred_test)\n",
    "output.columns = ['Prediction']\n",
    "output.index.name = 'Id'\n",
    "path = os.getcwd() + '/result_NB.csv'\n",
    "output.to_csv(path)\n",
    "output.head()"
   ]
  },
  {
   "cell_type": "code",
   "execution_count": 63,
   "metadata": {},
   "outputs": [
    {
     "name": "stderr",
     "output_type": "stream",
     "text": [
      "[nltk_data] Downloading package wordnet to\n",
      "[nltk_data]     C:\\Users\\Abhishek\\AppData\\Roaming\\nltk_data...\n",
      "[nltk_data]   Unzipping corpora\\wordnet.zip.\n"
     ]
    },
    {
     "data": {
      "text/plain": [
       "True"
      ]
     },
     "execution_count": 63,
     "metadata": {},
     "output_type": "execute_result"
    }
   ],
   "source": [
    "import nltk\n",
    "nltk.download('wordnet')\n",
    "  "
   ]
  },
  {
   "cell_type": "code",
   "execution_count": null,
   "metadata": {},
   "outputs": [],
   "source": []
  }
 ],
 "metadata": {
  "kernelspec": {
   "display_name": "Python 2",
   "language": "python",
   "name": "python2"
  },
  "language_info": {
   "codemirror_mode": {
    "name": "ipython",
    "version": 2
   },
   "file_extension": ".py",
   "mimetype": "text/x-python",
   "name": "python",
   "nbconvert_exporter": "python",
   "pygments_lexer": "ipython2",
   "version": "2.7.15"
  }
 },
 "nbformat": 4,
 "nbformat_minor": 2
}
