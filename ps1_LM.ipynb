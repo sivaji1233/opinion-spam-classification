{
 "cells": [
  {
   "cell_type": "code",
   "execution_count": 33,
   "metadata": {},
   "outputs": [],
   "source": [
    "# Import Packages\n",
    "\n",
    "import os\n",
    "import re\n",
    "import numpy as np\n",
    "import pandas as pd\n",
    "import math\n",
    "from sklearn.metrics import accuracy_score\n",
    "from nltk.corpus import stopwords \n",
    "from nltk.tokenize import word_tokenize\n",
    "import operator\n",
    "from nltk.stem import WordNetLemmatizer\n",
    "from nltk.stem.porter import PorterStemmer\n",
    "from scipy.stats import bernoulli\n"
   ]
  },
  {
   "cell_type": "markdown",
   "metadata": {},
   "source": [
    "### Adding s to starting/ending of each review and Lemmatization"
   ]
  },
  {
   "cell_type": "code",
   "execution_count": 34,
   "metadata": {},
   "outputs": [],
   "source": [
    "def modifytext(filename):\n",
    "    f = open(os.getcwd() + \"/DATASET/train/\" + filename, \"r\")\n",
    "    lemmer=WordNetLemmatizer()\n",
    "    porter_stem = PorterStemmer()\n",
    "    mod_text = ''\n",
    "    for line in f:\n",
    "        line = ' '.join([lemmer.lemmatize(word) for word in line.split()])              # Lemmatization\n",
    "#         line = ' '.join([porter_stem.stem(word) for word in line.split()])               # Stemming\n",
    "        line = '<s>' + ' ' + line\n",
    "        mod_text += line\n",
    "    \n",
    "    return mod_text"
   ]
  },
  {
   "cell_type": "markdown",
   "metadata": {},
   "source": [
    "### Unigram Count"
   ]
  },
  {
   "cell_type": "code",
   "execution_count": 35,
   "metadata": {},
   "outputs": [],
   "source": [
    "# O(n) complexity\n",
    "def unigram(corpus):\n",
    "    unigram_count = {}\n",
    "    total_word_count = len(corpus)\n",
    "\n",
    "    for item in corpus: \n",
    "        if (item in unigram_count):   \n",
    "            unigram_count[item] += 1\n",
    "        else: \n",
    "            unigram_count[item] = 1\n",
    "    \n",
    "    return unigram_count"
   ]
  },
  {
   "cell_type": "markdown",
   "metadata": {},
   "source": [
    "### Bigram count"
   ]
  },
  {
   "cell_type": "code",
   "execution_count": 36,
   "metadata": {},
   "outputs": [],
   "source": [
    "# Complexity O(n)\n",
    "def bigram(corpus):\n",
    "    corpus_bigram = []\n",
    "    for i in range(len(corpus)-1):\n",
    "        corpus_bigram.append(corpus[i]+ ' ' + corpus[i+1])\n",
    "\n",
    "    bigram_count = {}\n",
    "    for item in corpus_bigram: \n",
    "        if (item in bigram_count):           \n",
    "            bigram_count[item] += 1\n",
    "        else: \n",
    "            bigram_count[item] = 1\n",
    "\n",
    "    return bigram_count"
   ]
  },
  {
   "cell_type": "markdown",
   "metadata": {},
   "source": [
    "### Bigram \"+k\" smoothing (+1 is too coarse) "
   ]
  },
  {
   "cell_type": "code",
   "execution_count": 37,
   "metadata": {},
   "outputs": [],
   "source": [
    "# Complexity O(1)\n",
    "def k_smoothing(word1, word2, bigram_count, unigram_count, k):\n",
    "    unigram_word_types = unigram_count.keys()\n",
    "    bigram = word1 + ' ' + word2\n",
    "    prob = 0\n",
    "    if bigram in bigram_count:\n",
    "        prob = float('%.4f'%(round((bigram_count[bigram] + k),2)/(unigram_count[word1] + k*len(unigram_word_types))))\n",
    "        \n",
    "    else:\n",
    "        prob = k/(unigram_count[word1] + k*len(unigram_word_types))\n",
    "        \n",
    "    return prob"
   ]
  },
  {
   "cell_type": "code",
   "execution_count": 38,
   "metadata": {},
   "outputs": [],
   "source": [
    "def k_smoothing_unigram(word, unigram_count, k):\n",
    "    if word in unigram_count:\n",
    "        prob = (unigram_count[word] + k)/(sum(unigram_count.values()) + k*len(unigram_count.keys()))\n",
    "    else:\n",
    "        prob = (k)/(sum(unigram_count.values()) + k*len(unigram_count.keys()))\n",
    "    return prob"
   ]
  },
  {
   "cell_type": "code",
   "execution_count": 39,
   "metadata": {},
   "outputs": [],
   "source": [
    "# This was tried as one of the methods but didn't perform well, so we didn't use it.\n",
    "\n",
    "def k_smoothing_interpolation(word1, word2, bigram_count, unigram_count, k, lamda):\n",
    "    \n",
    "    unigram_word_types = unigram_count.keys()\n",
    "    bigram = word1 + ' ' + word2\n",
    "    prob = 0\n",
    "    \n",
    "    if bigram in bigram_count:\n",
    "        prob = (1-lamda)*float('%.4f'%(round((bigram_count[bigram] + k),2)/(unigram_count[word1] + k*len(unigram_word_types)))) + lamda*(unigram_count[word2] + k)/(sum(unigram_count.values()) + k*len(unigram_count.keys()))\n",
    "    elif word1 in unigram_count and word2 in unigram_count:\n",
    "        prob = (1-lamda)*k/(unigram_count[word1] + k*len(unigram_word_types)) +  lamda*(unigram_count[word2] + k)/(sum(unigram_count.values()) + k*len(unigram_count.keys()))\n",
    "    else:\n",
    "        prob = (1-lamda)*k/(unigram_count['UNK'] + len(unigram_word_types)) + lamda*(unigram_count['UNK'] + k)/(sum(unigram_count.values()) + k*len(unigram_count.keys()))\n",
    "    \n",
    "    return prob"
   ]
  },
  {
   "cell_type": "markdown",
   "metadata": {},
   "source": [
    "### Perplexity Score "
   ]
  },
  {
   "cell_type": "code",
   "execution_count": 40,
   "metadata": {},
   "outputs": [],
   "source": [
    "def perplexity(review, bigram_count, unigram_count, k, lamda):  # review should be sent as a list of words\n",
    "    test_corpus_bigram = []\n",
    "    for i in range(len(review)-1):\n",
    "        test_corpus_bigram.append(review[i]+ ' ' + review[i+1])\n",
    "    \n",
    "    N = len(review)\n",
    "    sum_prob = 0\n",
    "    for bigram in test_corpus_bigram:\n",
    "        str = bigram.split(' ')\n",
    "        prob = k_smoothing(str[0], str[1], bigram_count, unigram_count, k)\n",
    "#         prob = k_smoothing_interpolation(str[0], str[1], bigram_count, unigram_count, k, lamda)\n",
    "        sum_prob += float('%.4f'%(round(math.log(prob),2)))\n",
    "        \n",
    "    PP = math.exp(-sum_prob/N)\n",
    "    return PP"
   ]
  },
  {
   "cell_type": "code",
   "execution_count": 41,
   "metadata": {},
   "outputs": [],
   "source": [
    "def perplexity_unigram(review, unigram_count, k):\n",
    "    sum_prob = 0\n",
    "    N = len(review)\n",
    "    for word in review:\n",
    "        prob = k_smoothing_unigram(word, unigram_count, k)\n",
    "        sum_prob += float('%.4f'%(round(math.log(prob),2)))\n",
    "    \n",
    "    PP = math.exp(-sum_prob/N)\n",
    "    return PP"
   ]
  },
  {
   "cell_type": "markdown",
   "metadata": {},
   "source": [
    "### Removing Stop Words\n"
   ]
  },
  {
   "cell_type": "code",
   "execution_count": 42,
   "metadata": {},
   "outputs": [],
   "source": [
    "def remove_stopwords(corpus):\n",
    "    stop_words = [\"i\", \"me\", \"my\", \"myself\", \"we\", \"our\", \"ours\", \"ourselves\", \"you\", \"your\", \"yours\", \"yourself\", \"yourselves\", \"he\", \"him\", \"his\", \"himself\", \"she\", \"her\", \"hers\", \"herself\", \"it\", \"its\", \"itself\", \"they\", \"them\", \"their\", \"theirs\", \"themselves\", \"what\", \"which\", \"who\", \"whom\", \"this\", \"that\", \"these\", \"those\", \"am\", \"is\", \"are\", \"was\", \"were\", \"be\", \"been\", \"being\", \"have\", \"has\", \"had\", \"having\", \"do\", \"does\", \"did\", \"doing\", \"a\", \"an\", \"the\", \"and\", \"but\", \"if\", \"or\", \"because\", \"as\", \"until\", \"while\", \"of\", \"at\", \"by\", \"for\", \"with\", \"about\", \"against\", \"between\", \"into\", \"through\", \"during\", \"before\", \"after\", \"above\", \"below\", \"to\", \"from\", \"up\", \"down\", \"in\", \"out\", \"on\", \"off\", \"over\", \"under\", \"again\", \"further\", \"then\", \"once\", \"here\", \"there\", \"when\", \"where\", \"why\", \"how\", \"all\", \"any\", \"both\", \"each\", \"few\", \"more\", \"most\", \"other\", \"some\", \"such\", \"no\", \"nor\", \"not\", \"only\", \"own\", \"same\", \"so\", \"than\", \"too\", \"very\", \"s\", \"t\", \"can\", \"will\", \"just\", \"don\", \"should\", \"now\"]\n",
    "#     stop_words = ['the','and','a','to','was','i','for','it','is','be','as','so','are','all','when']\n",
    "    filter_corpus = []\n",
    "    for word in corpus:\n",
    "        if word not in stop_words:\n",
    "            filter_corpus.append(word)\n",
    "    return filter_corpus"
   ]
  },
  {
   "cell_type": "markdown",
   "metadata": {},
   "source": [
    "### Unknown Words Addition "
   ]
  },
  {
   "cell_type": "code",
   "execution_count": 43,
   "metadata": {},
   "outputs": [],
   "source": [
    "# Used to add UNK to the training corpus\n",
    "def unknown_words(corpus):\n",
    "    for i in range(len(corpus)):\n",
    "        toss = np.random.binomial(size=1, n=1, p= 0.01)\n",
    "        if toss == 1:\n",
    "            corpus[i] = 'UNK'\n",
    "    \n",
    "    return corpus"
   ]
  },
  {
   "cell_type": "code",
   "execution_count": 44,
   "metadata": {},
   "outputs": [],
   "source": [
    "# Used to add UNK in validation and Testing corpus \n",
    "def add_unknown_words(corpus, unigram_count):\n",
    "    for i in range(len(corpus)):\n",
    "        if corpus[i] not in unigram_count:\n",
    "            corpus[i] = 'UNK'\n",
    "    return corpus"
   ]
  },
  {
   "cell_type": "markdown",
   "metadata": {},
   "source": [
    "### Language Model and Perplexity based Classification"
   ]
  },
  {
   "cell_type": "code",
   "execution_count": 45,
   "metadata": {},
   "outputs": [
    {
     "name": "stdout",
     "output_type": "stream",
     "text": [
      "Accuracy Score: 0.8828125\n"
     ]
    }
   ],
   "source": [
    "np.random.seed(42)\n",
    "filename = 'truthful.txt'\n",
    "f = open(os.getcwd() + \"/DATASET/train/\" + filename, \"r\")\n",
    "text = modifytext(filename)    # adding <s> to starting and ending each review.\n",
    "text = text.lower()\n",
    "# text = text.replace(\" '\", \"\")\n",
    "# text = text.replace(\",\", \"\")\n",
    "truthful_corpus = text.split()\n",
    "# truthful_corpus = remove_stopwords(truthful_corpus)\n",
    "truthful_corpus = unknown_words(truthful_corpus)\n",
    "f.close()\n",
    "\n",
    "filename = 'deceptive.txt'\n",
    "f = open(os.getcwd() + \"/DATASET/train/\" + filename, \"r\")\n",
    "text = modifytext(filename)    # adding <s> to starting and ending each review.\n",
    "text = text.lower()\n",
    "# text = text.replace(\" '\", \"\")\n",
    "# text = text.replace(\",\", \"\")\n",
    "deceptive_corpus = text.split()\n",
    "# deceptive_corpus = remove_stopwords(deceptive_corpus)\n",
    "deceptive_corpus = unknown_words(deceptive_corpus)\n",
    "f.close()\n",
    "\n",
    "truthful_unigram_count = unigram(truthful_corpus)\n",
    "truthful_bigram_count = bigram(truthful_corpus)\n",
    "\n",
    "deceptive_unigram_count = unigram(deceptive_corpus)\n",
    "deceptive_bigram_count = bigram(deceptive_corpus)\n",
    "\n",
    "\n",
    "# Loading the validation dataset\n",
    "k = 0.01                       # smoothing parameter\n",
    "k1 = 1.0\n",
    "lamda = 1.0\n",
    "ypred = []\n",
    "ytruth = []\n",
    "\n",
    "filename = 'truthful.txt'\n",
    "f = open(os.getcwd() + \"/DATASET/validation/\" + filename, \"r\")\n",
    "\n",
    "# Complexity O(n2)\n",
    "\n",
    "for line in f:\n",
    "    text = line\n",
    "    text = '<s>' + ' ' + text\n",
    "    text = text.lower()\n",
    "#     text = text.replace(\" '\", \"\")\n",
    "#     text = text.replace(\",\", \"\")\n",
    "    truthful_corpus_valid = text.split()    # Reads one review at a time\n",
    "    truthful_corpus_valid_1 = add_unknown_words(truthful_corpus_valid, truthful_unigram_count)\n",
    "#     truthful_corpus_valid = remove_stopwords(truthful_corpus_valid)\n",
    "#     pp_truthful = perplexity(truthful_corpus_valid_1, truthful_bigram_count, truthful_unigram_count, k, lamda)\n",
    "    truthful_corpus_valid_2 = add_unknown_words(truthful_corpus_valid, deceptive_unigram_count)\n",
    "#     pp_deceptive = perplexity(truthful_corpus_valid_2, deceptive_bigram_count, deceptive_unigram_count, k, lamda)\n",
    "    \n",
    "    pp_truthful = perplexity_unigram(truthful_corpus_valid_1, truthful_unigram_count, k1)\n",
    "    pp_deceptive = perplexity_unigram(truthful_corpus_valid_2, deceptive_unigram_count, k1)\n",
    "\n",
    "    if pp_truthful < pp_deceptive:\n",
    "        ypred.append(0)\n",
    "    else:\n",
    "        ypred.append(1)\n",
    "    ytruth.append(0)\n",
    "f.close()\n",
    "\n",
    "filename = 'deceptive.txt'\n",
    "f = open(os.getcwd() + \"/DATASET/validation/\" + filename, \"r\")\n",
    "\n",
    "# Complexity O(n2)\n",
    "for line in f:\n",
    "    text = line\n",
    "    text = '<s>' + ' ' + text\n",
    "    text = text.lower()\n",
    "#     text = text.replace(\" '\", \"\")\n",
    "#     text = text.replace(\",\", \"\")\n",
    "    deceptive_corpus_valid = text.split()          # Reads one review at a time\n",
    "#     deceptive_corpus_valid = remove_stopwords(deceptive_corpus_valid)\n",
    "    deceptive_corpus_valid_1 = add_unknown_words(deceptive_corpus_valid, truthful_unigram_count)\n",
    "#     pp_truthful = perplexity(deceptive_corpus_valid_1, truthful_bigram_count, truthful_unigram_count, k, lamda)\n",
    "    deceptive_corpus_valid_2 = add_unknown_words(deceptive_corpus_valid, deceptive_unigram_count)\n",
    "#     pp_deceptive = perplexity(deceptive_corpus_valid_2, deceptive_bigram_count, deceptive_unigram_count, k, lamda)\n",
    "    pp_truthful = perplexity_unigram(deceptive_corpus_valid_1, truthful_unigram_count, k1)\n",
    "    pp_deceptive = perplexity_unigram(deceptive_corpus_valid_2, deceptive_unigram_count, k1)\n",
    "    if pp_truthful < pp_deceptive:\n",
    "        ypred.append(0)\n",
    "    else:\n",
    "        ypred.append(1)\n",
    "    ytruth.append(1)\n",
    "f.close()\n",
    "\n",
    "acc_score = accuracy_score(ytruth, ypred)\n",
    "print('Accuracy Score: %s'%(acc_score))\n"
   ]
  },
  {
   "cell_type": "markdown",
   "metadata": {},
   "source": [
    "### Model execution on test set"
   ]
  },
  {
   "cell_type": "code",
   "execution_count": 64,
   "metadata": {},
   "outputs": [
    {
     "data": {
      "text/html": [
       "<div>\n",
       "<style scoped>\n",
       "    .dataframe tbody tr th:only-of-type {\n",
       "        vertical-align: middle;\n",
       "    }\n",
       "\n",
       "    .dataframe tbody tr th {\n",
       "        vertical-align: top;\n",
       "    }\n",
       "\n",
       "    .dataframe thead th {\n",
       "        text-align: right;\n",
       "    }\n",
       "</style>\n",
       "<table border=\"1\" class=\"dataframe\">\n",
       "  <thead>\n",
       "    <tr style=\"text-align: right;\">\n",
       "      <th></th>\n",
       "      <th>Prediction</th>\n",
       "    </tr>\n",
       "    <tr>\n",
       "      <th>Id</th>\n",
       "      <th></th>\n",
       "    </tr>\n",
       "  </thead>\n",
       "  <tbody>\n",
       "    <tr>\n",
       "      <th>0</th>\n",
       "      <td>0</td>\n",
       "    </tr>\n",
       "    <tr>\n",
       "      <th>1</th>\n",
       "      <td>0</td>\n",
       "    </tr>\n",
       "    <tr>\n",
       "      <th>2</th>\n",
       "      <td>0</td>\n",
       "    </tr>\n",
       "    <tr>\n",
       "      <th>3</th>\n",
       "      <td>1</td>\n",
       "    </tr>\n",
       "    <tr>\n",
       "      <th>4</th>\n",
       "      <td>0</td>\n",
       "    </tr>\n",
       "  </tbody>\n",
       "</table>\n",
       "</div>"
      ],
      "text/plain": [
       "    Prediction\n",
       "Id            \n",
       "0            0\n",
       "1            0\n",
       "2            0\n",
       "3            1\n",
       "4            0"
      ]
     },
     "execution_count": 64,
     "metadata": {},
     "output_type": "execute_result"
    }
   ],
   "source": [
    "filename = 'test.txt'\n",
    "f = open(os.getcwd() + \"/DATASET/test/\" + filename, \"r\")\n",
    "k = 0.01                       # smoothing parameter\n",
    "k1 = 1.0\n",
    "ypred = []\n",
    "lemmer=WordNetLemmatizer()\n",
    "\n",
    "# Complexity O(n2)\n",
    "for line in f:\n",
    "    text = line\n",
    "    text =' '.join([lemmer.lemmatize(word) for word in text.split()])              # Lemmatization\n",
    "    text = '<s>' + ' ' + text\n",
    "    text = text.lower()\n",
    "#     text = text.replace(\" '\", \"\")\n",
    "#     text = text.replace(\",\", \"\")\n",
    "    deceptive_corpus_valid = text.split()          # Reads one review at a time\n",
    "#     deceptive_corpus_valid = remove_stopwords(deceptive_corpus_valid)\n",
    "    deceptive_corpus_valid_1 = add_unknown_words(deceptive_corpus_valid, truthful_unigram_count)\n",
    "#     pp_truthful = perplexity(deceptive_corpus_valid_1, truthful_bigram_count, truthful_unigram_count, k, lamda)\n",
    "    deceptive_corpus_valid_2 = add_unknown_words(deceptive_corpus_valid, deceptive_unigram_count)\n",
    "#     pp_deceptive = perplexity(deceptive_corpus_valid_2, deceptive_bigram_count, deceptive_unigram_count, k, lamda)\n",
    "    pp_truthful = perplexity_unigram(deceptive_corpus_valid_1, truthful_unigram_count, k1)\n",
    "    pp_deceptive = perplexity_unigram(deceptive_corpus_valid_2, deceptive_unigram_count, k1)\n",
    "    if pp_truthful < pp_deceptive:\n",
    "        ypred.append(0)\n",
    "    else:\n",
    "        ypred.append(1)\n",
    "f.close()\n",
    "output = pd.DataFrame(ypred)\n",
    "output.columns = ['Prediction']\n",
    "output.index.name = 'Id'\n",
    "path = os.getcwd() + '/result.csv'\n",
    "output.to_csv(path)\n",
    "output.head()\n"
   ]
  },
  {
   "cell_type": "code",
   "execution_count": 5,
   "metadata": {},
   "outputs": [
    {
     "data": {
      "text/plain": [
       "array([0, 0, 0, 0, 0, 0, 0, 0, 0, 0])"
      ]
     },
     "execution_count": 5,
     "metadata": {},
     "output_type": "execute_result"
    }
   ],
   "source": [
    "np.random.binomial(size=10, n=1, p= 0.01)"
   ]
  },
  {
   "cell_type": "code",
   "execution_count": null,
   "metadata": {},
   "outputs": [],
   "source": []
  }
 ],
 "metadata": {
  "kernelspec": {
   "display_name": "Python 2",
   "language": "python",
   "name": "python2"
  },
  "language_info": {
   "codemirror_mode": {
    "name": "ipython",
    "version": 2
   },
   "file_extension": ".py",
   "mimetype": "text/x-python",
   "name": "python",
   "nbconvert_exporter": "python",
   "pygments_lexer": "ipython2",
   "version": "2.7.15"
  }
 },
 "nbformat": 4,
 "nbformat_minor": 2
}
